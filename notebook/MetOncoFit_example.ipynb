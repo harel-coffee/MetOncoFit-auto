{
    "cells": [
        {
            "cell_type": "markdown",
            "source": [
                "# MetOncoFit Example\r\n",
                "**Author:** Scott Campit"
            ],
            "metadata": {}
        },
        {
            "cell_type": "markdown",
            "source": [
                "## Summary\r\n",
                "This notebook generates the cancer tissue models discussed in Oruganty, K., Campit, S. E., Mamde, S., Lyssiotis, C. A., & Chandrasekaran, S. (2020). Common biochemical properties of metabolic genes recurrently dysregulated in tumors. Cancer & metabolism, 8(1), 1-15."
            ],
            "metadata": {}
        },
        {
            "cell_type": "markdown",
            "source": [
                "## 1. Load Data\r\n",
                "The data for MetOncoFit is stored in `/lib`. "
            ],
            "metadata": {}
        },
        {
            "cell_type": "code",
            "execution_count": 55,
            "source": [
                "import os\r\n",
                "import zipfile\r\n",
                "\r\n",
                "import warnings\r\n",
                "warnings.filterwarnings(\"ignore\")\r\n",
                "\r\n",
                "import numpy as np\r\n",
                "import pandas as pd\r\n",
                "from sklearn import preprocessing"
            ],
            "outputs": [],
            "metadata": {}
        },
        {
            "cell_type": "markdown",
            "source": [
                "We'll write up some accessory functions for data loading and processing."
            ],
            "metadata": {}
        },
        {
            "cell_type": "code",
            "execution_count": 47,
            "source": [
                "def long_cancer_names(fileName: str) -> str:\r\n",
                "    \"\"\"Converts shorthand to longhand names for each tissue model.\"\"\"\r\n",
                "    canc = fileName.replace(\".csv\", \"\")\r\n",
                "    canc_dict = {\r\n",
                "        'breast': 'Breast Cancer',\r\n",
                "        'cns': 'Glioma',\r\n",
                "        'colon': 'Colorectal Cancer',\r\n",
                "        'complex': 'Pan Cancer',\r\n",
                "        'leukemia': 'B-cell lymphoma',\r\n",
                "        'melanoma': 'Melanoma',\r\n",
                "        'nsclc': 'Lung Cancer',\r\n",
                "        'ovarian': 'Ovarian Cancer',\r\n",
                "        'prostate': 'Prostate Cancer',\r\n",
                "        'renal': 'Renal Cancer'\r\n",
                "        }\r\n",
                "    canc = canc_dict.get(canc)\r\n",
                "    return canc\r\n",
                "\r\n",
                "def long_feature_names(labelFileName: str) -> dict:\r\n",
                "    \"\"\"Converts shorthand to longhand names for each feature.\"\"\"\r\n",
                "    columnName_map = pd.read_csv(\r\n",
                "        labelFileName, sep='\\t', names=['Original', 'New'])\r\n",
                "    bestNames = dict([(index, name)\r\n",
                "                      for index, name in zip(columnName_map['Original'], columnName_map['New'])])\r\n",
                "    return bestNames\r\n",
                "\r\n",
                "def load_data(dataModelPath: str, labelFilePath: str) -> pd.DataFrame:\r\n",
                "    \"\"\"\r\n",
                "    load_data reads in the cancer model data (.csv file) and outputs a pandas dataframe.\r\n",
                "\r\n",
                "    :params:\r\n",
                "        model_file: The path to the .csv file containing the rows as observations and the columns as features.\r\n",
                "            Note: there needs to be a corresponding 'Genes' and 'Cell Line' column to set as the index.\r\n",
                "\r\n",
                "    :return:\r\n",
                "        model:      A pandas dataframe containing the cancer model data, with observations as rows and\r\n",
                "            features as columns.\r\n",
                "        cancer:     A string denoting the tissue type from the name of the .csv file.\r\n",
                "    \"\"\"\r\n",
                "\r\n",
                "    column_names = long_feature_names(labelFilePath)\r\n",
                "    if '.zip' in dataModelPath:\r\n",
                "        zipfolder = os.path.dirname(data_path)\r\n",
                "        filename = os.path.basename(data_path)\r\n",
                "        cancer    = os.path.splitext(os.path.basename(data_path))[0]\r\n",
                "        archive = zipfile.ZipFile(zipfolder, 'r')\r\n",
                "        with archive.open(filename) as f:\r\n",
                "            datamodel    = pd.read_csv(f)\r\n",
                "            datamodel    = datamodel.rename(columns=column_names)\r\n",
                "            datamodel    = datamodel.set_index(['Genes', 'Cell Line'])\r\n",
                "    else:\r\n",
                "        cancer       = dataModelPath.strip(\".\")[0]\r\n",
                "        datamodel    = pd.read_csv(dataModelPath)\r\n",
                "        datamodel    = datamodel.rename(columns=column_names)\r\n",
                "        datamodel    = datamodel.set_index(['Genes', 'Cell Line'])\r\n",
                "\r\n",
                "    return datamodel, cancer"
            ],
            "outputs": [],
            "metadata": {}
        },
        {
            "cell_type": "markdown",
            "source": [
                "Let's load the breast cancer model as an example. Note that you can replace the breast cancer model with the other tissue models. For tissues not discussed in the main manuscript, please access the Zenodo data repository DOI:10.5281/zenodo.3520696."
            ],
            "metadata": {}
        },
        {
            "cell_type": "code",
            "execution_count": 48,
            "source": [
                "data_path = './../lib/data_models.zip/breast.csv'\r\n",
                "labels = './../lib/headers.txt'\r\n",
                "breast_model, breast_label = load_data(data_path, labels)"
            ],
            "outputs": [],
            "metadata": {}
        },
        {
            "cell_type": "code",
            "execution_count": 49,
            "source": [
                "breast_model.head(3)"
            ],
            "outputs": [
                {
                    "output_type": "execute_result",
                    "data": {
                        "text/plain": [
                            "                 Flux change in Alanine and Aspartate Metabolism after gene KO  \\\n",
                            "Genes Cell Line                                                                  \n",
                            "A4GNT BT-549                                              0.027766               \n",
                            "      HS-578-T                                            0.025870               \n",
                            "      MCF7                                                0.013893               \n",
                            "\n",
                            "                 Flux change in Aminosugar Metabolism after gene KO  \\\n",
                            "Genes Cell Line                                                       \n",
                            "A4GNT BT-549                                                   0.0    \n",
                            "      HS-578-T                                                 0.0    \n",
                            "      MCF7                                                     0.0    \n",
                            "\n",
                            "                 Flux change in Arginine and Proline Metabolism after gene KO  \\\n",
                            "Genes Cell Line                                                                 \n",
                            "A4GNT BT-549                                              1.274142              \n",
                            "      HS-578-T                                            1.274176              \n",
                            "      MCF7                                                1.910480              \n",
                            "\n",
                            "                 Flux change in Bile Acid Biosynthesis after gene KO  \\\n",
                            "Genes Cell Line                                                        \n",
                            "A4GNT BT-549                                                   0.0     \n",
                            "      HS-578-T                                                 0.0     \n",
                            "      MCF7                                                     0.0     \n",
                            "\n",
                            "                 Flux change in Biotin Metabolism after gene KO  \\\n",
                            "Genes Cell Line                                                   \n",
                            "A4GNT BT-549                                                0.0   \n",
                            "      HS-578-T                                              0.0   \n",
                            "      MCF7                                                  0.0   \n",
                            "\n",
                            "                 Flux change in Cholesterol Metabolism after gene KO  \\\n",
                            "Genes Cell Line                                                        \n",
                            "A4GNT BT-549                                              0.007901     \n",
                            "      HS-578-T                                            0.008405     \n",
                            "      MCF7                                                0.010212     \n",
                            "\n",
                            "                 Flux change in Citric Acid Cycle after gene KO  \\\n",
                            "Genes Cell Line                                                   \n",
                            "A4GNT BT-549                                           0.174623   \n",
                            "      HS-578-T                                         0.087882   \n",
                            "      MCF7                                             0.653827   \n",
                            "\n",
                            "                 Flux change in CoA Biosynthesis after gene KO  \\\n",
                            "Genes Cell Line                                                  \n",
                            "A4GNT BT-549                                               0.0   \n",
                            "      HS-578-T                                             0.0   \n",
                            "      MCF7                                                 0.0   \n",
                            "\n",
                            "                 Flux change in CoA Catabolism after gene KO  \\\n",
                            "Genes Cell Line                                                \n",
                            "A4GNT BT-549                                             0.0   \n",
                            "      HS-578-T                                           0.0   \n",
                            "      MCF7                                               0.0   \n",
                            "\n",
                            "                 Flux change in Cysteine Metabolism after gene KO  ...  \\\n",
                            "Genes Cell Line                                                    ...   \n",
                            "A4GNT BT-549                                             0.003353  ...   \n",
                            "      HS-578-T                                           0.002500  ...   \n",
                            "      MCF7                                               0.002500  ...   \n",
                            "\n",
                            "                 Sum of topological distances to biomass components  \\\n",
                            "Genes Cell Line                                                       \n",
                            "A4GNT BT-549                                                  3300    \n",
                            "      HS-578-T                                                3300    \n",
                            "      MCF7                                                    3300    \n",
                            "\n",
                            "                 Catalytic efficiency  NCI-60 gene expression  \\\n",
                            "Genes Cell Line                                                 \n",
                            "A4GNT BT-549                 3.292782                   2.286   \n",
                            "      HS-578-T               3.292782                   2.286   \n",
                            "      MCF7                   3.292782                   2.287   \n",
                            "\n",
                            "                 RECON1 subsystem  Metabolic subnetwork  \\\n",
                            "Genes Cell Line                                           \n",
                            "A4GNT BT-549                   BJ                    NO   \n",
                            "      HS-578-T                 BJ                    NO   \n",
                            "      MCF7                     BJ                    NO   \n",
                            "\n",
                            "                 TCGA gene expression fold change  CNV gain/loss ratio  \\\n",
                            "Genes Cell Line                                                          \n",
                            "A4GNT BT-549                            -1.869042             1.402174   \n",
                            "      HS-578-T                          -1.869042             1.402174   \n",
                            "      MCF7                              -1.869042             1.402174   \n",
                            "\n",
                            "                 TCGA annotation   CNV     SURV  \n",
                            "Genes Cell Line                                  \n",
                            "A4GNT BT-549             NEUTRAL  NEUT  NEUTRAL  \n",
                            "      HS-578-T           NEUTRAL  NEUT  NEUTRAL  \n",
                            "      MCF7               NEUTRAL  NEUT  NEUTRAL  \n",
                            "\n",
                            "[3 rows x 141 columns]"
                        ],
                        "text/html": [
                            "<div>\n",
                            "<style scoped>\n",
                            "    .dataframe tbody tr th:only-of-type {\n",
                            "        vertical-align: middle;\n",
                            "    }\n",
                            "\n",
                            "    .dataframe tbody tr th {\n",
                            "        vertical-align: top;\n",
                            "    }\n",
                            "\n",
                            "    .dataframe thead th {\n",
                            "        text-align: right;\n",
                            "    }\n",
                            "</style>\n",
                            "<table border=\"1\" class=\"dataframe\">\n",
                            "  <thead>\n",
                            "    <tr style=\"text-align: right;\">\n",
                            "      <th></th>\n",
                            "      <th></th>\n",
                            "      <th>Flux change in Alanine and Aspartate Metabolism after gene KO</th>\n",
                            "      <th>Flux change in Aminosugar Metabolism after gene KO</th>\n",
                            "      <th>Flux change in Arginine and Proline Metabolism after gene KO</th>\n",
                            "      <th>Flux change in Bile Acid Biosynthesis after gene KO</th>\n",
                            "      <th>Flux change in Biotin Metabolism after gene KO</th>\n",
                            "      <th>Flux change in Cholesterol Metabolism after gene KO</th>\n",
                            "      <th>Flux change in Citric Acid Cycle after gene KO</th>\n",
                            "      <th>Flux change in CoA Biosynthesis after gene KO</th>\n",
                            "      <th>Flux change in CoA Catabolism after gene KO</th>\n",
                            "      <th>Flux change in Cysteine Metabolism after gene KO</th>\n",
                            "      <th>...</th>\n",
                            "      <th>Sum of topological distances to biomass components</th>\n",
                            "      <th>Catalytic efficiency</th>\n",
                            "      <th>NCI-60 gene expression</th>\n",
                            "      <th>RECON1 subsystem</th>\n",
                            "      <th>Metabolic subnetwork</th>\n",
                            "      <th>TCGA gene expression fold change</th>\n",
                            "      <th>CNV gain/loss ratio</th>\n",
                            "      <th>TCGA annotation</th>\n",
                            "      <th>CNV</th>\n",
                            "      <th>SURV</th>\n",
                            "    </tr>\n",
                            "    <tr>\n",
                            "      <th>Genes</th>\n",
                            "      <th>Cell Line</th>\n",
                            "      <th></th>\n",
                            "      <th></th>\n",
                            "      <th></th>\n",
                            "      <th></th>\n",
                            "      <th></th>\n",
                            "      <th></th>\n",
                            "      <th></th>\n",
                            "      <th></th>\n",
                            "      <th></th>\n",
                            "      <th></th>\n",
                            "      <th></th>\n",
                            "      <th></th>\n",
                            "      <th></th>\n",
                            "      <th></th>\n",
                            "      <th></th>\n",
                            "      <th></th>\n",
                            "      <th></th>\n",
                            "      <th></th>\n",
                            "      <th></th>\n",
                            "      <th></th>\n",
                            "      <th></th>\n",
                            "    </tr>\n",
                            "  </thead>\n",
                            "  <tbody>\n",
                            "    <tr>\n",
                            "      <th rowspan=\"3\" valign=\"top\">A4GNT</th>\n",
                            "      <th>BT-549</th>\n",
                            "      <td>0.027766</td>\n",
                            "      <td>0.0</td>\n",
                            "      <td>1.274142</td>\n",
                            "      <td>0.0</td>\n",
                            "      <td>0.0</td>\n",
                            "      <td>0.007901</td>\n",
                            "      <td>0.174623</td>\n",
                            "      <td>0.0</td>\n",
                            "      <td>0.0</td>\n",
                            "      <td>0.003353</td>\n",
                            "      <td>...</td>\n",
                            "      <td>3300</td>\n",
                            "      <td>3.292782</td>\n",
                            "      <td>2.286</td>\n",
                            "      <td>BJ</td>\n",
                            "      <td>NO</td>\n",
                            "      <td>-1.869042</td>\n",
                            "      <td>1.402174</td>\n",
                            "      <td>NEUTRAL</td>\n",
                            "      <td>NEUT</td>\n",
                            "      <td>NEUTRAL</td>\n",
                            "    </tr>\n",
                            "    <tr>\n",
                            "      <th>HS-578-T</th>\n",
                            "      <td>0.025870</td>\n",
                            "      <td>0.0</td>\n",
                            "      <td>1.274176</td>\n",
                            "      <td>0.0</td>\n",
                            "      <td>0.0</td>\n",
                            "      <td>0.008405</td>\n",
                            "      <td>0.087882</td>\n",
                            "      <td>0.0</td>\n",
                            "      <td>0.0</td>\n",
                            "      <td>0.002500</td>\n",
                            "      <td>...</td>\n",
                            "      <td>3300</td>\n",
                            "      <td>3.292782</td>\n",
                            "      <td>2.286</td>\n",
                            "      <td>BJ</td>\n",
                            "      <td>NO</td>\n",
                            "      <td>-1.869042</td>\n",
                            "      <td>1.402174</td>\n",
                            "      <td>NEUTRAL</td>\n",
                            "      <td>NEUT</td>\n",
                            "      <td>NEUTRAL</td>\n",
                            "    </tr>\n",
                            "    <tr>\n",
                            "      <th>MCF7</th>\n",
                            "      <td>0.013893</td>\n",
                            "      <td>0.0</td>\n",
                            "      <td>1.910480</td>\n",
                            "      <td>0.0</td>\n",
                            "      <td>0.0</td>\n",
                            "      <td>0.010212</td>\n",
                            "      <td>0.653827</td>\n",
                            "      <td>0.0</td>\n",
                            "      <td>0.0</td>\n",
                            "      <td>0.002500</td>\n",
                            "      <td>...</td>\n",
                            "      <td>3300</td>\n",
                            "      <td>3.292782</td>\n",
                            "      <td>2.287</td>\n",
                            "      <td>BJ</td>\n",
                            "      <td>NO</td>\n",
                            "      <td>-1.869042</td>\n",
                            "      <td>1.402174</td>\n",
                            "      <td>NEUTRAL</td>\n",
                            "      <td>NEUT</td>\n",
                            "      <td>NEUTRAL</td>\n",
                            "    </tr>\n",
                            "  </tbody>\n",
                            "</table>\n",
                            "<p>3 rows × 141 columns</p>\n",
                            "</div>"
                        ]
                    },
                    "metadata": {},
                    "execution_count": 49
                }
            ],
            "metadata": {}
        },
        {
            "cell_type": "markdown",
            "source": [
                "## 2. Data Preprocessing\r\n",
                "\r\n",
                "### A. Label encoding"
            ],
            "metadata": {}
        },
        {
            "cell_type": "code",
            "execution_count": 50,
            "source": [
                "def label_encode(datamodel: pd.DataFrame) -> pd.DataFrame:\r\n",
                "    \"\"\"\r\n",
                "    label_encode uses the label_encoder function from scikit-learn for the RECON1 subsystem and Metabolic subnetwork\r\n",
                "        features. Note that these features may be removed in future MetOncoFit versions.\r\n",
                "\r\n",
                "    :params:\r\n",
                "        model:               A pandas dataframe containing the cancer model data, with observations as rows and\r\n",
                "            features as columns.\r\n",
                "\r\n",
                "    :return:\r\n",
                "        label_encoded_model: A panda dataframe of the label-encoded model.\r\n",
                "    \"\"\"\r\n",
                "\r\n",
                "    label_encoder = preprocessing.LabelEncoder()\r\n",
                "    datamodel['RECON1 subsystem'] = label_encoder.fit_transform(\r\n",
                "        datamodel['RECON1 subsystem'])\r\n",
                "    datamodel['Metabolic subnetwork'] = label_encoder.fit_transform(\r\n",
                "        datamodel['Metabolic subnetwork'])\r\n",
                "    label_encoded_model = datamodel.copy(deep=True)\r\n",
                "\r\n",
                "    return label_encoded_model"
            ],
            "outputs": [],
            "metadata": {}
        },
        {
            "cell_type": "code",
            "execution_count": 51,
            "source": [
                "encoded_df = label_encode(breast_model)"
            ],
            "outputs": [],
            "metadata": {}
        },
        {
            "cell_type": "markdown",
            "source": [
                "### B. Split targets from data model\r\n",
                "Let's separate the targets from the data model. In this example, we are trying to predict differentially expressed genes."
            ],
            "metadata": {}
        },
        {
            "cell_type": "code",
            "execution_count": 53,
            "source": [
                "# Remove targets and features not of interest for differential expression prediction\r\n",
                "encoded_df = encoded_df.drop(['TCGA gene expression fold change',\r\n",
                "                              'CNV gain/loss ratio',\r\n",
                "                              'CNV', \r\n",
                "                              'SURV'], axis=1)\r\n",
                "\r\n",
                "# Separate out targets versus data model\r\n",
                "target = encoded_df['TCGA annotation']\r\n",
                "encoded_df = encoded_df.drop('TCGA annotation', axis=1)"
            ],
            "outputs": [],
            "metadata": {}
        },
        {
            "cell_type": "markdown",
            "source": [
                "### C. Robust Scaling\r\n",
                "To account for the high dynamic range within the dataset, we will use robust scaling to scale the data."
            ],
            "metadata": {}
        },
        {
            "cell_type": "code",
            "execution_count": 56,
            "source": [
                "from sklearn.preprocessing import RobustScaler\r\n",
                "\r\n",
                "data = np.array(encoded_df).astype(np.float)\r\n",
                "robust_df = RobustScaler(with_centering=True, with_scaling=True).fit_transform(data)"
            ],
            "outputs": [],
            "metadata": {}
        },
        {
            "cell_type": "markdown",
            "source": [
                "### D. Random oversampling\r\n",
                "We also have an issue of class imbalance. To address this issue, we perform random oversampling. We'll first split the data using an 80/20 split."
            ],
            "metadata": {}
        },
        {
            "cell_type": "code",
            "execution_count": 58,
            "source": [
                "from imblearn.over_sampling import RandomOverSampler\r\n",
                "from sklearn.model_selection import train_test_split\r\n",
                "\r\n",
                "# Split into training and test set\r\n",
                "Xtrain, Xtest, Ytrain, Ytest = train_test_split(robust_df, target,\r\n",
                "                                                test_size=0.2,\r\n",
                "                                                train_size=0.8,\r\n",
                "                                                shuffle=True)\r\n",
                "\r\n",
                "# Random oversampling\r\n",
                "over_sampler = RandomOverSampler(sampling_strategy='auto')\r\n",
                "Xtrain, Ytrain = over_sampler.fit_resample(Xtrain, Ytrain)"
            ],
            "outputs": [],
            "metadata": {}
        },
        {
            "cell_type": "markdown",
            "source": [
                "## 3. Model Training\r\n",
                "Now that we have the dataset preprocessed, it's time to train the random forest classifier."
            ],
            "metadata": {}
        },
        {
            "cell_type": "code",
            "execution_count": 60,
            "source": [
                "from sklearn.ensemble import RandomForestClassifier\r\n",
                "from sklearn.model_selection import cross_val_score\r\n",
                "\r\n",
                "# Train models\r\n",
                "rfc = RandomForestClassifier()\r\n",
                "rfc.fit(Xtrain, Ytrain)\r\n",
                "\r\n",
                "# Evaluate\r\n",
                "rfc_pred = rfc.predict(Xtest)\r\n",
                "mean_acc = rfc.score(Xtest, Ytest)"
            ],
            "outputs": [],
            "metadata": {}
        },
        {
            "cell_type": "markdown",
            "source": [
                "Save the model."
            ],
            "metadata": {}
        },
        {
            "cell_type": "code",
            "execution_count": 63,
            "source": [
                "import pickle\r\n",
                "\r\n",
                "savepath = './../lib/breast_model.pkl'\r\n",
                "with open(savepath, 'wb') as f:\r\n",
                "    pickle.dump(rfc, f)"
            ],
            "outputs": [],
            "metadata": {}
        },
        {
            "cell_type": "markdown",
            "source": [
                "## 4. Evaluate random forest classifier model"
            ],
            "metadata": {}
        },
        {
            "cell_type": "code",
            "execution_count": 62,
            "source": [
                "feature_imp = pd.Series(rfc.feature_importances_,\r\n",
                "                        index=encoded_df.columns).sort_values(ascending=False)\r\n",
                "feature_imp.head(10)"
            ],
            "outputs": [
                {
                    "output_type": "execute_result",
                    "data": {
                        "text/plain": [
                            "NCI-60 gene expression                                          0.140468\n",
                            "Catalytic efficiency                                            0.056964\n",
                            "RECON1 subsystem                                                0.052971\n",
                            "Topological distance from reduced glutathione (media)           0.046240\n",
                            "Topological distance to CMP (biomass)                           0.043372\n",
                            "Topological distance from glutamine (media)                     0.041577\n",
                            "Sum of topological distances to media components                0.040358\n",
                            "Flux change in Arginine and Proline Metabolism after gene KO    0.034231\n",
                            "Topological distance to ATP (biomass)                           0.021931\n",
                            "Metabolic subnetwork                                            0.021653\n",
                            "dtype: float64"
                        ]
                    },
                    "metadata": {},
                    "execution_count": 62
                }
            ],
            "metadata": {}
        }
    ],
    "metadata": {
        "orig_nbformat": 4,
        "language_info": {
            "name": "python",
            "version": "3.9.5",
            "mimetype": "text/x-python",
            "codemirror_mode": {
                "name": "ipython",
                "version": 3
            },
            "pygments_lexer": "ipython3",
            "nbconvert_exporter": "python",
            "file_extension": ".py"
        },
        "kernelspec": {
            "name": "python3",
            "display_name": "Python 3.9.5 64-bit ('metoncofit': virtualenv)"
        },
        "interpreter": {
            "hash": "52b35fa02444309e53be025e61464e9b399a770fc823a58919db814f908a5122"
        }
    },
    "nbformat": 4,
    "nbformat_minor": 2
}