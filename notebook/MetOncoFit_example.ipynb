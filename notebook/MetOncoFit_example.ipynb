{
    "cells": [
        {
            "cell_type": "markdown",
            "source": [
                "# MetOncoFit Example\r\n",
                "**Author:** Scott Campit"
            ],
            "metadata": {}
        },
        {
            "cell_type": "markdown",
            "source": [
                "## Summary\r\n",
                "This notebook generates the cancer tissue models discussed in Oruganty, K., Campit, S. E., Mamde, S., Lyssiotis, C. A., & Chandrasekaran, S. (2020). Common biochemical properties of metabolic genes recurrently dysregulated in tumors. Cancer & metabolism, 8(1), 1-15."
            ],
            "metadata": {}
        },
        {
            "cell_type": "markdown",
            "source": [],
            "metadata": {}
        }
    ],
    "metadata": {
        "orig_nbformat": 4,
        "language_info": {
            "name": "python"
        }
    },
    "nbformat": 4,
    "nbformat_minor": 2
}